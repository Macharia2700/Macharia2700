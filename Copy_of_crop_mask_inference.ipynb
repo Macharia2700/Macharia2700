{
  "cells": [
    {
      "cell_type": "markdown",
      "metadata": {
        "id": "view-in-github",
        "colab_type": "text"
      },
      "source": [
        "<a href=\"https://colab.research.google.com/github/Macharia2700/Macharia2700/blob/main/Copy_of_crop_mask_inference.ipynb\" target=\"_parent\"><img src=\"https://colab.research.google.com/assets/colab-badge.svg\" alt=\"Open In Colab\"/></a>"
      ]
    },
    {
      "cell_type": "markdown",
      "metadata": {
        "id": "oHKfXmw7hiyG"
      },
      "source": [
        "# Crop mask and crop type inference 🌍\n",
        "[![Open In Colab](https://colab.research.google.com/assets/colab-badge.svg)](https://colab.research.google.com/github/nasaharvest/crop-mask/blob/master/notebooks/inference.ipynb)\n",
        "\n",
        "**Author:** Ivan Zvonkov (izvonkov@umd.edu)\n",
        "\n",
        "**Description:** This notebook provides all the code to create a crop mask or crop type map using NASA Harvest's Google Cloud architecture. Access to the Google Cloud project is required.\n",
        "\n",
        "The notebook is in beta mode so issue reports and suggestions are welcome! \n"
      ]
    },
    {
      "cell_type": "code",
      "execution_count": null,
      "metadata": {
        "id": "6-BkEAN73YSy"
      },
      "outputs": [],
      "source": [
        "!pip install rasterio>=1.2.6 geopandas==0.9.0 -q"
      ]
    },
    {
      "cell_type": "code",
      "execution_count": null,
      "metadata": {
        "id": "B6j-evZH3YS0",
        "outputId": "37831a37-35fb-47a2-b881-e6b8b8f3f00e",
        "colab": {
          "base_uri": "https://localhost:8080/"
        }
      },
      "outputs": [
        {
          "output_type": "stream",
          "name": "stdout",
          "text": [
            "\u001b[K     |████████████████████████████████| 806 kB 624 kB/s \n",
            "\u001b[?25h"
          ]
        }
      ],
      "source": [
        "!pip install cropharvest==0.3.0 -q"
      ]
    },
    {
      "cell_type": "code",
      "execution_count": null,
      "metadata": {
        "id": "IuQ7iQd4DCfn"
      },
      "outputs": [],
      "source": [
        "import ee\n",
        "import IPython\n",
        "import ipywidgets as widgets\n",
        "import os\n",
        "import re\n",
        "import requests\n",
        "\n",
        "from cropharvest.eo import EarthEngineExporter\n",
        "from cropharvest.countries import BBox\n",
        "from collections import defaultdict\n",
        "from datetime import date\n",
        "from glob import glob\n",
        "from google.colab import auth\n",
        "from google.cloud import storage\n",
        "from ipywidgets import Box\n",
        "from pathlib import Path\n",
        "from tqdm.notebook import tqdm"
      ]
    },
    {
      "cell_type": "markdown",
      "metadata": {
        "id": "06f9A0Nh4qD7"
      },
      "source": [
        "# Functions\n",
        "Below are the functions that are used in the notebook, no changes are needed. Just run the cell!"
      ]
    },
    {
      "cell_type": "code",
      "execution_count": null,
      "metadata": {
        "id": "wIlG8pV_4wJb"
      },
      "outputs": [],
      "source": [
        "#######################################################\n",
        "# Status functions\n",
        "#######################################################\n",
        "def get_ee_task_amount(prefix=None):\n",
        "    amount = 0\n",
        "    task_list = ee.data.getTaskList()\n",
        "    for t in tqdm(task_list):\n",
        "      if t[\"state\"] in [\"READY\", \"RUNNING\"]:\n",
        "        if prefix and prefix in t[\"description\"]:\n",
        "          amount += 1\n",
        "        else:\n",
        "          amount += 1\n",
        "    return amount\n",
        "\n",
        "def get_gcs_file_dict_and_amount(bucket_name, prefix):\n",
        "    blobs = client.list_blobs(bucket_name, prefix=prefix)\n",
        "    files_dict = defaultdict(lambda: [])\n",
        "    amount = 0\n",
        "    for blob in tqdm(blobs, desc=f\"From {bucket_name}\"):\n",
        "        p = Path(blob.name)\n",
        "        files_dict[str(p.parent)].append(p.stem.replace(\"pred_\", \"\"))\n",
        "        amount += 1\n",
        "    return files_dict, amount\n",
        "\n",
        "def get_gcs_file_amount(bucket_name, prefix):\n",
        "    return len(list(client.list_blobs(bucket_name, prefix=prefix)))\n",
        "\n",
        "def get_status(model_name_version):\n",
        "    print(\"------------------------------------------------------------------------------\")\n",
        "    print(model_name_version) \n",
        "    print(\"------------------------------------------------------------------------------\")\n",
        "    ee_task_amount = get_ee_task_amount(prefix=model_name_version.replace(\"/\", \"-\"))\n",
        "    tifs_amount = get_gcs_file_amount(tifs_bucket_name, prefix=model_name_version)\n",
        "    predictions_amount = get_gcs_file_amount(preds_bucket_name, prefix=model_name_version)\n",
        "    print(f\"Earth Engine tasks: {ee_task_amount}\")\n",
        "    print(f\"Data available: {tifs_amount}\")\n",
        "    print(f\"Predictions: {predictions_amount}\")\n",
        "    return ee_task_amount, tifs_amount, predictions_amount\n",
        "\n",
        "#######################################################\n",
        "# Inference functions\n",
        "#######################################################\n",
        "\n",
        "def find_missing_predictions(model_name_version, verbose=False):\n",
        "    print(\"Addressing missing files\")\n",
        "    tif_files, tif_amount = get_gcs_file_dict_and_amount(tifs_bucket_name, prefix=model_name_version)\n",
        "    pred_files, pred_amount  = get_gcs_file_dict_and_amount(preds_bucket_name, prefix=model_name_version)\n",
        "    missing = {}\n",
        "    for full_k in tqdm(tif_files.keys(), desc=\"Missing files\"):\n",
        "        if full_k not in pred_files:\n",
        "            diffs = tif_files[full_k]\n",
        "        else:\n",
        "            diffs = list(set(tif_files[full_k]) - set(pred_files[full_k]))\n",
        "        if len(diffs) > 0:\n",
        "            missing[full_k] = diffs\n",
        "\n",
        "    batches_with_issues = len(missing.keys())\n",
        "    if verbose:\n",
        "        print(\"------------------------------------------------------------------------------\")\n",
        "        print(prefix) \n",
        "        print(\"------------------------------------------------------------------------------\")\n",
        "    if batches_with_issues > 0:\n",
        "        print(f\"\\u2716 {batches_with_issues}/{len(tif_files.keys())} batches have a total {tif_amount - pred_amount} missing predictions\")\n",
        "        if verbose:\n",
        "            for batch, files in missing.items():\n",
        "                print(\"\\t--------------------------------------------------\")\n",
        "                print(f\"\\t{Path(batch).stem}: {len(files)}\")\n",
        "                print(\"\\t--------------------------------------------------\")\n",
        "                [print(f\"\\t{f}\") for f in files]\n",
        "    else:\n",
        "        print(f\"\\u2714 all files in each batch match\")\n",
        "    return missing\n",
        "\n",
        "def make_new_predictions(missing):\n",
        "    bucket = client.bucket(tifs_bucket_name)\n",
        "    for batch, files in tqdm(missing.items(), desc=\"Going through batches\"):\n",
        "        for file in tqdm(files, desc=\"Renaming files\", leave=False):\n",
        "            blob_name = f\"{batch}/{file}.tif\"\n",
        "            blob = bucket.blob(blob_name)\n",
        "            if blob.exists():\n",
        "                new_blob_name = f\"{batch}/{file}-retry1.tif\"\n",
        "                bucket.rename_blob(blob, new_blob_name)\n",
        "            else:\n",
        "                print(f\"Could not find: {blob_name}\")  \n",
        "\n",
        "#######################################################\n",
        "# Map making functions\n",
        "#######################################################\n",
        "def gdal_cmd(cmd_type: str, in_file: str, out_file: str, msg = None, print_cmd=False):\n",
        "    if cmd_type == \"gdalbuildvrt\":\n",
        "        cmd = f\"gdalbuildvrt {out_file} {in_file}\"\n",
        "    elif cmd_type == \"gdal_translate\":\n",
        "        cmd = f\"gdal_translate -a_srs EPSG:4326 -of GTiff {in_file} {out_file}\"\n",
        "    else:\n",
        "        raise NotImplementedError(f\"{cmd_type} not implemented.\")\n",
        "    if msg:\n",
        "        print(msg)\n",
        "    if print_cmd:\n",
        "        print(cmd)\n",
        "    os.system(cmd)\n",
        "\n",
        "def build_vrt(prefix):\n",
        "    # Build vrts for each batch of predictions\n",
        "    print(\"Building vrt for each batch\")\n",
        "    for d in tqdm(glob(f\"{prefix}_preds/*/*/\")):\n",
        "        if \"batch\" not in d:\n",
        "            continue\n",
        "\n",
        "        match = re.search(\"batch_(.*?)/\", d)\n",
        "        if match:\n",
        "            i = int(match.group(1))\n",
        "        else:\n",
        "            raise ValueError(f\"Cannot parse i from {d}\")\n",
        "        vrt_file = Path(f\"{prefix}_vrts/{i}.vrt\")\n",
        "        if not vrt_file.exists():\n",
        "            gdal_cmd(cmd_type=\"gdalbuildvrt\", in_file=f\"{d}*\", out_file=str(vrt_file))\n",
        "\n",
        "    gdal_cmd(\n",
        "        cmd_type=\"gdalbuildvrt\",\n",
        "        in_file=f\"{prefix}_vrts/*.vrt\",\n",
        "        out_file=f\"{prefix}_final.vrt\",\n",
        "        msg=\"Building full vrt\",\n",
        "    )\n"
      ]
    },
    {
      "cell_type": "markdown",
      "metadata": {
        "id": "Ag1WM1J_Ch-w"
      },
      "source": [
        "# 1. Setup\n",
        "**Prerequisite**: Access to bsos-geog-harvest Google Cloud project."
      ]
    },
    {
      "cell_type": "code",
      "execution_count": null,
      "metadata": {
        "id": "a6GvdFxr3WtI",
        "outputId": "b4a1eb9c-5b8c-4801-d786-af15f73bc71e",
        "colab": {
          "base_uri": "https://localhost:8080/",
          "height": 113,
          "referenced_widgets": [
            "3d096aee77a442649a07de5020bc97a2",
            "ee84a9f061be49f2bfb1a436141b851b",
            "438eef1eb2ba4a499d91fa5fc81d92dd",
            "2ba5d5cdf4084e59a128522afa4de4c5",
            "72fdc2e3643a43629dd67b9c06de450b",
            "5e191fce9a324a308b44e8cd68cc1816",
            "57e3b4599a5b42cb93cf17aabddec891",
            "358f454fa79142bc8e58af67ee53db50"
          ]
        }
      },
      "outputs": [
        {
          "output_type": "display_data",
          "data": {
            "text/plain": [
              "Box(children=(Text(value='', description='Earth Engine username: ', style=DescriptionStyle(description_width='…"
            ],
            "application/vnd.jupyter.widget-view+json": {
              "version_major": 2,
              "version_minor": 0,
              "model_id": "3d096aee77a442649a07de5020bc97a2"
            }
          },
          "metadata": {}
        }
      ],
      "source": [
        "box_layout = widgets.Layout(flex_flow='column')\n",
        "\n",
        "earthengine_user_widget = widgets.Text(\n",
        "    description='Earth Engine username: ',\n",
        "    style= {'description_width': 'initial'}\n",
        ")\n",
        "\n",
        "model_type_widget = widgets.RadioButtons(\n",
        "    options=[\"crop-mask\", \"crop-type\"],\n",
        "    style= {'description_width': 'initial'},\n",
        "    value=\"crop-mask\",\n",
        "    description='Model type:',\n",
        "    disabled=False\n",
        ")\n",
        "\n",
        "Box(children=[earthengine_user_widget, model_type_widget], layout=box_layout)"
      ]
    },
    {
      "cell_type": "code",
      "execution_count": null,
      "metadata": {
        "id": "H8veEdNk3YS5"
      },
      "outputs": [],
      "source": [
        "earthengine_user = earthengine_user_widget.value\n",
        "model_type = model_type_widget.value\n",
        "\n",
        "# References to Google Cloud resources\n",
        "gcloud_project_id = \"bsos-geog-harvest1\"\n",
        "tifs_bucket_name = f\"{model_type}-earthengine\" \n",
        "preds_bucket_name = f\"{model_type}-preds\" \n",
        "preds_merged_bucket_name = f\"{model_type}-preds-merged\"\n",
        "models_url = f\"https://{model_type}-management-api-grxg7bzh2a-uc.a.run.app/models\""
      ]
    },
    {
      "cell_type": "code",
      "execution_count": null,
      "metadata": {
        "id": "bRsa4a0d3YS6",
        "outputId": "a5b5b914-de47-4f50-9922-ae4aebeec6b6",
        "colab": {
          "base_uri": "https://localhost:8080/"
        }
      },
      "outputs": [
        {
          "output_type": "stream",
          "name": "stdout",
          "text": [
            "Logging into Earth Engine\n",
            "To authorize access needed by Earth Engine, open the following URL in a web browser and follow the instructions. If the web browser does not start automatically, please manually browse the URL below.\n",
            "\n",
            "    https://code.earthengine.google.com/client-auth?scopes=https%3A//www.googleapis.com/auth/earthengine%20https%3A//www.googleapis.com/auth/devstorage.full_control&request_id=JYh1-0cOu01XrRPK3yv6sbb-2PNPUEUQg1BLkBEATIs&tc=NC24EATqBd-Cwj1hBA50r05FqtldPkxaKl39qgyHwHM&cc=xjhXpkXwFOPa7Pww8HlqDX1G928_qDyaJWuhSWGa-HY\n",
            "\n",
            "The authorization workflow will generate a code, which you should paste in the box below. \n",
            "Enter verification code: 4/1AX4XfWgM580ofQpHuMWWy3sILjVnH-xJfUtJLJ5Y4f5lLUBWVi1jko6Y57g\n",
            "\n",
            "Successfully saved authorization token.\n",
            "Logging into Google Cloud\n"
          ]
        }
      ],
      "source": [
        "print(\"Logging into Earth Engine\")\n",
        "!earthengine authenticate\n",
        "print(\"Logging into Google Cloud\")\n",
        "auth.authenticate_user()\n",
        "ee.Initialize()\n",
        "client = storage.Client(project=gcloud_project_id)"
      ]
    },
    {
      "cell_type": "code",
      "execution_count": null,
      "metadata": {
        "id": "9_965j2lDAyw",
        "outputId": "db2ef7a1-e9e5-4c15-9c44-20578af4ad1c",
        "colab": {
          "base_uri": "https://localhost:8080/"
        }
      },
      "outputs": [
        {
          "output_type": "execute_result",
          "data": {
            "text/plain": [
              "['East_Africa',\n",
              " 'Ethiopia_Bure_Jimma_2019',\n",
              " 'Ethiopia_Bure_Jimma_2020',\n",
              " 'Ethiopia_Tigray_2020',\n",
              " 'Ethiopia_Tigray_2021',\n",
              " 'Mali_lower_2019',\n",
              " 'Mali_upper_2019',\n",
              " 'Rwanda_2019',\n",
              " 'Uganda_2019']"
            ]
          },
          "metadata": {},
          "execution_count": 8
        }
      ],
      "source": [
        "response = requests.get(models_url)\n",
        "assert response.status_code == 200, f\"Got {response.status_code}. Either the url is incorrect or gcloud is not authenticated.\"\n",
        "available_models = [item[\"modelName\"] for item in response.json()[\"models\"]]\n",
        "available_models"
      ]
    },
    {
      "cell_type": "markdown",
      "metadata": {
        "id": "47dpxDPoCnF2"
      },
      "source": [
        "# 2. Inference configuration\n",
        "\n"
      ]
    },
    {
      "cell_type": "code",
      "execution_count": null,
      "metadata": {
        "id": "eK1Kxg4W30IO",
        "outputId": "3d9eb6fd-8719-41da-a01c-cdd25a3273f5",
        "colab": {
          "base_uri": "https://localhost:8080/",
          "height": 145,
          "referenced_widgets": [
            "a91e2c5217f3475298e6c09e88cf00c5",
            "b5c362ed5c624b4e9385661102313cf5",
            "ce45c129dceb41cb9e165d7bc81c3cdb",
            "fa7a11fedabe45119cc572eda0ed063b",
            "3ba2e9f1f67c4fb68e70ee8f9211ea74",
            "2ba5d5cdf4084e59a128522afa4de4c5",
            "372b333713284100ba1bd685c53ad24a",
            "3bd6b44b884b4cf793e84025b8f74979",
            "59af3782db7b471c9fa2148f1930444c",
            "ecc44914056e409a95432e2ccf6e4578",
            "d16df233379e470f8bf570596fabac13",
            "21ca3a9c4e2845da8eb7bb182a046f91",
            "8076f01cd0ff4f45b91e4947bc099a01",
            "7347c6a1086145dd9d09d8f492e036ce"
          ]
        }
      },
      "outputs": [
        {
          "output_type": "display_data",
          "data": {
            "text/plain": [
              "Box(children=(Dropdown(description='Model to use', options=('East_Africa', 'Ethiopia_Bure_Jimma_2019', 'Ethiop…"
            ],
            "application/vnd.jupyter.widget-view+json": {
              "version_major": 2,
              "version_minor": 0,
              "model_id": "a91e2c5217f3475298e6c09e88cf00c5"
            }
          },
          "metadata": {}
        }
      ],
      "source": [
        "model_picker = widgets.Dropdown(options=available_models, description=\"Model to use\")\n",
        "\n",
        "start_date_select = widgets.DatePicker(description='Start date', value=date(2020, 2, 1))\n",
        "end_date_select = widgets.DatePicker(description='End date', value=date(2021, 2, 1))\n",
        "\n",
        "map_identifier = widgets.Text(description='Map identifier')\n",
        "\n",
        "Box(children=[\n",
        "              model_picker, \n",
        "              start_date_select, \n",
        "              end_date_select,\n",
        "              map_identifier\n",
        "              ], layout=box_layout)"
      ]
    },
    {
      "cell_type": "code",
      "execution_count": null,
      "metadata": {
        "id": "RUDx2NyfFAUY",
        "outputId": "e0fcebcc-a841-410c-d51e-dbd5ef5deb82",
        "colab": {
          "base_uri": "https://localhost:8080/"
        }
      },
      "outputs": [
        {
          "output_type": "stream",
          "name": "stdout",
          "text": [
            "Preparing to do inference for this region: http://bboxfinder.com/#-0.8268000000000001,36.9636,-0.7268,37.063599999999994\n"
          ]
        }
      ],
      "source": [
        "##################################################################\n",
        "# START: Configuration (edit below code)\n",
        "##################################################################\n",
        "# Coordinates for map\n",
        "lat = - 0.7768\n",
        "lon = 37.0136\n",
        "\n",
        "# Small margin for demos\n",
        "# margin 0.01 -> 1 min\n",
        "# margin 0.02 -> 3 mins\n",
        "# margin 0.03 -> 9 mins\n",
        "# margin 0.05 -> 10 mins\n",
        "\n",
        "margin = 0.05 \n",
        "\n",
        "bbox = BBox(\n",
        "    min_lon=lon-margin, \n",
        "    max_lon=lon+margin, \n",
        "    min_lat=lat-margin, \n",
        "    max_lat=lat+margin\n",
        ")\n",
        "\n",
        "##################################################################\n",
        "# END: Configuration\n",
        "##################################################################\n",
        "\n",
        "start_date = start_date_select.value\n",
        "end_date = end_date_select.value\n",
        "model_name = model_picker.value\n",
        "version = map_identifier.value\n",
        "model_name_version = f\"{model_name}/{version}\"\n",
        "\n",
        "# Verify configuration\n",
        "assert version is not \"\", \"Map identifier not set.\"\n",
        "\n",
        "print(f\"Preparing to do inference for this region: {bbox.url}\")\n",
        "\n",
        "if str(start_date.year) not in model_name:\n",
        "  print((\"-\")*100)\n",
        "  print(f\"WARNING: Start year: {start_date.year} not in model name {model_name}, verify start and end date.\")\n",
        "  print((\"-\")*100)"
      ]
    },
    {
      "cell_type": "markdown",
      "metadata": {
        "id": "HjHH4bRmRsny"
      },
      "source": [
        "# 3. Run inference\n",
        "\n",
        "![inference](https://github.com/nasaharvest/crop-mask/blob/master/assets/inference.png?raw=true)\n",
        "\n"
      ]
    },
    {
      "cell_type": "code",
      "execution_count": null,
      "metadata": {
        "id": "yxRQbXJORl36",
        "outputId": "ea76c9a2-fcc7-4edf-bdb9-68d337c2072d",
        "colab": {
          "base_uri": "https://localhost:8080/",
          "height": 482,
          "referenced_widgets": [
            "6e90263747374a5d894d82af92b747b0",
            "bac5842c84e0465a986f03edd213d22c",
            "a1a7f0697aac45449485c979738eec3a",
            "55d9b996fcb349a0a819d6192a36d067",
            "29320a9940354e7c98dd996470ed8ea5",
            "176d9e5f313042d89c59e4bbae059432",
            "3236309001a146e2a4f2d03d55bf3acc",
            "57527150989d4a37ae3daacde2c70eae",
            "85ecbead251648c5aac8d084a16f6088",
            "82d17fa6217e44a89d585744ddb4970d",
            "5e706639dd1e44669828df649e06a119"
          ]
        }
      },
      "outputs": [
        {
          "output_type": "stream",
          "name": "stdout",
          "text": [
            "------------------------------------------------------------------------------\n",
            "Ethiopia_Bure_Jimma_2020/Muranga_County_CropMask\n",
            "------------------------------------------------------------------------------\n"
          ]
        },
        {
          "output_type": "display_data",
          "data": {
            "text/plain": [
              "  0%|          | 0/1 [00:00<?, ?it/s]"
            ],
            "application/vnd.jupyter.widget-view+json": {
              "version_major": 2,
              "version_minor": 0,
              "model_id": "6e90263747374a5d894d82af92b747b0"
            }
          },
          "metadata": {}
        },
        {
          "output_type": "error",
          "ename": "Forbidden",
          "evalue": "ignored",
          "traceback": [
            "\u001b[0;31m---------------------------------------------------------------------------\u001b[0m",
            "\u001b[0;31mForbidden\u001b[0m                                 Traceback (most recent call last)",
            "\u001b[0;32m<ipython-input-35-db23d1372a2d>\u001b[0m in \u001b[0;36m<module>\u001b[0;34m()\u001b[0m\n\u001b[1;32m      1\u001b[0m \u001b[0;31m# Inference can take time so you may need to rerun this cell multiple times\u001b[0m\u001b[0;34m\u001b[0m\u001b[0;34m\u001b[0m\u001b[0;34m\u001b[0m\u001b[0m\n\u001b[0;32m----> 2\u001b[0;31m \u001b[0mee_task_amount\u001b[0m\u001b[0;34m,\u001b[0m \u001b[0mtifs_amount\u001b[0m\u001b[0;34m,\u001b[0m \u001b[0mpredictions_amount\u001b[0m \u001b[0;34m=\u001b[0m \u001b[0mget_status\u001b[0m\u001b[0;34m(\u001b[0m\u001b[0mmodel_name_version\u001b[0m\u001b[0;34m)\u001b[0m\u001b[0;34m\u001b[0m\u001b[0;34m\u001b[0m\u001b[0m\n\u001b[0m\u001b[1;32m      3\u001b[0m \u001b[0;32mif\u001b[0m \u001b[0mee_task_amount\u001b[0m \u001b[0;34m==\u001b[0m \u001b[0;36m0\u001b[0m\u001b[0;34m:\u001b[0m\u001b[0;34m\u001b[0m\u001b[0;34m\u001b[0m\u001b[0m\n\u001b[1;32m      4\u001b[0m     \u001b[0;32mif\u001b[0m \u001b[0mtifs_amount\u001b[0m \u001b[0;34m==\u001b[0m \u001b[0;36m0\u001b[0m\u001b[0;34m:\u001b[0m\u001b[0;34m\u001b[0m\u001b[0;34m\u001b[0m\u001b[0m\n\u001b[1;32m      5\u001b[0m       \u001b[0mprint\u001b[0m\u001b[0;34m(\u001b[0m\u001b[0;34m\"Starting earth engine exports...\"\u001b[0m\u001b[0;34m)\u001b[0m\u001b[0;34m\u001b[0m\u001b[0;34m\u001b[0m\u001b[0m\n",
            "\u001b[0;32m<ipython-input-4-49a64af71975>\u001b[0m in \u001b[0;36mget_status\u001b[0;34m(model_name_version)\u001b[0m\n\u001b[1;32m     31\u001b[0m     \u001b[0mprint\u001b[0m\u001b[0;34m(\u001b[0m\u001b[0;34m\"------------------------------------------------------------------------------\"\u001b[0m\u001b[0;34m)\u001b[0m\u001b[0;34m\u001b[0m\u001b[0;34m\u001b[0m\u001b[0m\n\u001b[1;32m     32\u001b[0m     \u001b[0mee_task_amount\u001b[0m \u001b[0;34m=\u001b[0m \u001b[0mget_ee_task_amount\u001b[0m\u001b[0;34m(\u001b[0m\u001b[0mprefix\u001b[0m\u001b[0;34m=\u001b[0m\u001b[0mmodel_name_version\u001b[0m\u001b[0;34m.\u001b[0m\u001b[0mreplace\u001b[0m\u001b[0;34m(\u001b[0m\u001b[0;34m\"/\"\u001b[0m\u001b[0;34m,\u001b[0m \u001b[0;34m\"-\"\u001b[0m\u001b[0;34m)\u001b[0m\u001b[0;34m)\u001b[0m\u001b[0;34m\u001b[0m\u001b[0;34m\u001b[0m\u001b[0m\n\u001b[0;32m---> 33\u001b[0;31m     \u001b[0mtifs_amount\u001b[0m \u001b[0;34m=\u001b[0m \u001b[0mget_gcs_file_amount\u001b[0m\u001b[0;34m(\u001b[0m\u001b[0mtifs_bucket_name\u001b[0m\u001b[0;34m,\u001b[0m \u001b[0mprefix\u001b[0m\u001b[0;34m=\u001b[0m\u001b[0mmodel_name_version\u001b[0m\u001b[0;34m)\u001b[0m\u001b[0;34m\u001b[0m\u001b[0;34m\u001b[0m\u001b[0m\n\u001b[0m\u001b[1;32m     34\u001b[0m     \u001b[0mpredictions_amount\u001b[0m \u001b[0;34m=\u001b[0m \u001b[0mget_gcs_file_amount\u001b[0m\u001b[0;34m(\u001b[0m\u001b[0mpreds_bucket_name\u001b[0m\u001b[0;34m,\u001b[0m \u001b[0mprefix\u001b[0m\u001b[0;34m=\u001b[0m\u001b[0mmodel_name_version\u001b[0m\u001b[0;34m)\u001b[0m\u001b[0;34m\u001b[0m\u001b[0;34m\u001b[0m\u001b[0m\n\u001b[1;32m     35\u001b[0m     \u001b[0mprint\u001b[0m\u001b[0;34m(\u001b[0m\u001b[0;34mf\"Earth Engine tasks: {ee_task_amount}\"\u001b[0m\u001b[0;34m)\u001b[0m\u001b[0;34m\u001b[0m\u001b[0;34m\u001b[0m\u001b[0m\n",
            "\u001b[0;32m<ipython-input-4-49a64af71975>\u001b[0m in \u001b[0;36mget_gcs_file_amount\u001b[0;34m(bucket_name, prefix)\u001b[0m\n\u001b[1;32m     24\u001b[0m \u001b[0;34m\u001b[0m\u001b[0m\n\u001b[1;32m     25\u001b[0m \u001b[0;32mdef\u001b[0m \u001b[0mget_gcs_file_amount\u001b[0m\u001b[0;34m(\u001b[0m\u001b[0mbucket_name\u001b[0m\u001b[0;34m,\u001b[0m \u001b[0mprefix\u001b[0m\u001b[0;34m)\u001b[0m\u001b[0;34m:\u001b[0m\u001b[0;34m\u001b[0m\u001b[0;34m\u001b[0m\u001b[0m\n\u001b[0;32m---> 26\u001b[0;31m     \u001b[0;32mreturn\u001b[0m \u001b[0mlen\u001b[0m\u001b[0;34m(\u001b[0m\u001b[0mlist\u001b[0m\u001b[0;34m(\u001b[0m\u001b[0mclient\u001b[0m\u001b[0;34m.\u001b[0m\u001b[0mlist_blobs\u001b[0m\u001b[0;34m(\u001b[0m\u001b[0mbucket_name\u001b[0m\u001b[0;34m,\u001b[0m \u001b[0mprefix\u001b[0m\u001b[0;34m=\u001b[0m\u001b[0mprefix\u001b[0m\u001b[0;34m)\u001b[0m\u001b[0;34m)\u001b[0m\u001b[0;34m)\u001b[0m\u001b[0;34m\u001b[0m\u001b[0;34m\u001b[0m\u001b[0m\n\u001b[0m\u001b[1;32m     27\u001b[0m \u001b[0;34m\u001b[0m\u001b[0m\n\u001b[1;32m     28\u001b[0m \u001b[0;32mdef\u001b[0m \u001b[0mget_status\u001b[0m\u001b[0;34m(\u001b[0m\u001b[0mmodel_name_version\u001b[0m\u001b[0;34m)\u001b[0m\u001b[0;34m:\u001b[0m\u001b[0;34m\u001b[0m\u001b[0;34m\u001b[0m\u001b[0m\n",
            "\u001b[0;32m/usr/local/lib/python3.7/dist-packages/google/api_core/page_iterator.py\u001b[0m in \u001b[0;36m_items_iter\u001b[0;34m(self)\u001b[0m\n\u001b[1;32m    212\u001b[0m     \u001b[0;32mdef\u001b[0m \u001b[0m_items_iter\u001b[0m\u001b[0;34m(\u001b[0m\u001b[0mself\u001b[0m\u001b[0;34m)\u001b[0m\u001b[0;34m:\u001b[0m\u001b[0;34m\u001b[0m\u001b[0;34m\u001b[0m\u001b[0m\n\u001b[1;32m    213\u001b[0m         \u001b[0;34m\"\"\"Iterator for each item returned.\"\"\"\u001b[0m\u001b[0;34m\u001b[0m\u001b[0;34m\u001b[0m\u001b[0m\n\u001b[0;32m--> 214\u001b[0;31m         \u001b[0;32mfor\u001b[0m \u001b[0mpage\u001b[0m \u001b[0;32min\u001b[0m \u001b[0mself\u001b[0m\u001b[0;34m.\u001b[0m\u001b[0m_page_iter\u001b[0m\u001b[0;34m(\u001b[0m\u001b[0mincrement\u001b[0m\u001b[0;34m=\u001b[0m\u001b[0;32mFalse\u001b[0m\u001b[0;34m)\u001b[0m\u001b[0;34m:\u001b[0m\u001b[0;34m\u001b[0m\u001b[0;34m\u001b[0m\u001b[0m\n\u001b[0m\u001b[1;32m    215\u001b[0m             \u001b[0;32mfor\u001b[0m \u001b[0mitem\u001b[0m \u001b[0;32min\u001b[0m \u001b[0mpage\u001b[0m\u001b[0;34m:\u001b[0m\u001b[0;34m\u001b[0m\u001b[0;34m\u001b[0m\u001b[0m\n\u001b[1;32m    216\u001b[0m                 \u001b[0mself\u001b[0m\u001b[0;34m.\u001b[0m\u001b[0mnum_results\u001b[0m \u001b[0;34m+=\u001b[0m \u001b[0;36m1\u001b[0m\u001b[0;34m\u001b[0m\u001b[0;34m\u001b[0m\u001b[0m\n",
            "\u001b[0;32m/usr/local/lib/python3.7/dist-packages/google/api_core/page_iterator.py\u001b[0m in \u001b[0;36m_page_iter\u001b[0;34m(self, increment)\u001b[0m\n\u001b[1;32m    251\u001b[0m             \u001b[0mPage\u001b[0m\u001b[0;34m:\u001b[0m \u001b[0meach\u001b[0m \u001b[0mpage\u001b[0m \u001b[0mof\u001b[0m \u001b[0mitems\u001b[0m \u001b[0;32mfrom\u001b[0m \u001b[0mthe\u001b[0m \u001b[0mAPI\u001b[0m\u001b[0;34m.\u001b[0m\u001b[0;34m\u001b[0m\u001b[0;34m\u001b[0m\u001b[0m\n\u001b[1;32m    252\u001b[0m         \"\"\"\n\u001b[0;32m--> 253\u001b[0;31m         \u001b[0mpage\u001b[0m \u001b[0;34m=\u001b[0m \u001b[0mself\u001b[0m\u001b[0;34m.\u001b[0m\u001b[0m_next_page\u001b[0m\u001b[0;34m(\u001b[0m\u001b[0;34m)\u001b[0m\u001b[0;34m\u001b[0m\u001b[0;34m\u001b[0m\u001b[0m\n\u001b[0m\u001b[1;32m    254\u001b[0m         \u001b[0;32mwhile\u001b[0m \u001b[0mpage\u001b[0m \u001b[0;32mis\u001b[0m \u001b[0;32mnot\u001b[0m \u001b[0;32mNone\u001b[0m\u001b[0;34m:\u001b[0m\u001b[0;34m\u001b[0m\u001b[0;34m\u001b[0m\u001b[0m\n\u001b[1;32m    255\u001b[0m             \u001b[0mself\u001b[0m\u001b[0;34m.\u001b[0m\u001b[0mpage_number\u001b[0m \u001b[0;34m+=\u001b[0m \u001b[0;36m1\u001b[0m\u001b[0;34m\u001b[0m\u001b[0;34m\u001b[0m\u001b[0m\n",
            "\u001b[0;32m/usr/local/lib/python3.7/dist-packages/google/api_core/page_iterator.py\u001b[0m in \u001b[0;36m_next_page\u001b[0;34m(self)\u001b[0m\n\u001b[1;32m    380\u001b[0m         \"\"\"\n\u001b[1;32m    381\u001b[0m         \u001b[0;32mif\u001b[0m \u001b[0mself\u001b[0m\u001b[0;34m.\u001b[0m\u001b[0m_has_next_page\u001b[0m\u001b[0;34m(\u001b[0m\u001b[0;34m)\u001b[0m\u001b[0;34m:\u001b[0m\u001b[0;34m\u001b[0m\u001b[0;34m\u001b[0m\u001b[0m\n\u001b[0;32m--> 382\u001b[0;31m             \u001b[0mresponse\u001b[0m \u001b[0;34m=\u001b[0m \u001b[0mself\u001b[0m\u001b[0;34m.\u001b[0m\u001b[0m_get_next_page_response\u001b[0m\u001b[0;34m(\u001b[0m\u001b[0;34m)\u001b[0m\u001b[0;34m\u001b[0m\u001b[0;34m\u001b[0m\u001b[0m\n\u001b[0m\u001b[1;32m    383\u001b[0m             \u001b[0mitems\u001b[0m \u001b[0;34m=\u001b[0m \u001b[0mresponse\u001b[0m\u001b[0;34m.\u001b[0m\u001b[0mget\u001b[0m\u001b[0;34m(\u001b[0m\u001b[0mself\u001b[0m\u001b[0;34m.\u001b[0m\u001b[0m_items_key\u001b[0m\u001b[0;34m,\u001b[0m \u001b[0;34m(\u001b[0m\u001b[0;34m)\u001b[0m\u001b[0;34m)\u001b[0m\u001b[0;34m\u001b[0m\u001b[0;34m\u001b[0m\u001b[0m\n\u001b[1;32m    384\u001b[0m             \u001b[0mpage\u001b[0m \u001b[0;34m=\u001b[0m \u001b[0mPage\u001b[0m\u001b[0;34m(\u001b[0m\u001b[0mself\u001b[0m\u001b[0;34m,\u001b[0m \u001b[0mitems\u001b[0m\u001b[0;34m,\u001b[0m \u001b[0mself\u001b[0m\u001b[0;34m.\u001b[0m\u001b[0mitem_to_value\u001b[0m\u001b[0;34m,\u001b[0m \u001b[0mraw_page\u001b[0m\u001b[0;34m=\u001b[0m\u001b[0mresponse\u001b[0m\u001b[0;34m)\u001b[0m\u001b[0;34m\u001b[0m\u001b[0;34m\u001b[0m\u001b[0m\n",
            "\u001b[0;32m/usr/local/lib/python3.7/dist-packages/google/api_core/page_iterator.py\u001b[0m in \u001b[0;36m_get_next_page_response\u001b[0;34m(self)\u001b[0m\n\u001b[1;32m    440\u001b[0m         \u001b[0;32mif\u001b[0m \u001b[0mself\u001b[0m\u001b[0;34m.\u001b[0m\u001b[0m_HTTP_METHOD\u001b[0m \u001b[0;34m==\u001b[0m \u001b[0;34m\"GET\"\u001b[0m\u001b[0;34m:\u001b[0m\u001b[0;34m\u001b[0m\u001b[0;34m\u001b[0m\u001b[0m\n\u001b[1;32m    441\u001b[0m             return self.api_request(\n\u001b[0;32m--> 442\u001b[0;31m                 \u001b[0mmethod\u001b[0m\u001b[0;34m=\u001b[0m\u001b[0mself\u001b[0m\u001b[0;34m.\u001b[0m\u001b[0m_HTTP_METHOD\u001b[0m\u001b[0;34m,\u001b[0m \u001b[0mpath\u001b[0m\u001b[0;34m=\u001b[0m\u001b[0mself\u001b[0m\u001b[0;34m.\u001b[0m\u001b[0mpath\u001b[0m\u001b[0;34m,\u001b[0m \u001b[0mquery_params\u001b[0m\u001b[0;34m=\u001b[0m\u001b[0mparams\u001b[0m\u001b[0;34m\u001b[0m\u001b[0;34m\u001b[0m\u001b[0m\n\u001b[0m\u001b[1;32m    443\u001b[0m             )\n\u001b[1;32m    444\u001b[0m         \u001b[0;32melif\u001b[0m \u001b[0mself\u001b[0m\u001b[0;34m.\u001b[0m\u001b[0m_HTTP_METHOD\u001b[0m \u001b[0;34m==\u001b[0m \u001b[0;34m\"POST\"\u001b[0m\u001b[0;34m:\u001b[0m\u001b[0;34m\u001b[0m\u001b[0;34m\u001b[0m\u001b[0m\n",
            "\u001b[0;32m/usr/local/lib/python3.7/dist-packages/google/cloud/_http.py\u001b[0m in \u001b[0;36mapi_request\u001b[0;34m(self, method, path, query_params, data, content_type, headers, api_base_url, api_version, expect_json, _target_object)\u001b[0m\n\u001b[1;32m    391\u001b[0m \u001b[0;34m\u001b[0m\u001b[0m\n\u001b[1;32m    392\u001b[0m         \u001b[0;32mif\u001b[0m \u001b[0;32mnot\u001b[0m \u001b[0;36m200\u001b[0m \u001b[0;34m<=\u001b[0m \u001b[0mresponse\u001b[0m\u001b[0;34m.\u001b[0m\u001b[0mstatus_code\u001b[0m \u001b[0;34m<\u001b[0m \u001b[0;36m300\u001b[0m\u001b[0;34m:\u001b[0m\u001b[0;34m\u001b[0m\u001b[0;34m\u001b[0m\u001b[0m\n\u001b[0;32m--> 393\u001b[0;31m             \u001b[0;32mraise\u001b[0m \u001b[0mexceptions\u001b[0m\u001b[0;34m.\u001b[0m\u001b[0mfrom_http_response\u001b[0m\u001b[0;34m(\u001b[0m\u001b[0mresponse\u001b[0m\u001b[0;34m)\u001b[0m\u001b[0;34m\u001b[0m\u001b[0;34m\u001b[0m\u001b[0m\n\u001b[0m\u001b[1;32m    394\u001b[0m \u001b[0;34m\u001b[0m\u001b[0m\n\u001b[1;32m    395\u001b[0m         \u001b[0;32mif\u001b[0m \u001b[0mexpect_json\u001b[0m \u001b[0;32mand\u001b[0m \u001b[0mresponse\u001b[0m\u001b[0;34m.\u001b[0m\u001b[0mcontent\u001b[0m\u001b[0;34m:\u001b[0m\u001b[0;34m\u001b[0m\u001b[0;34m\u001b[0m\u001b[0m\n",
            "\u001b[0;31mForbidden\u001b[0m: 403 GET https://www.googleapis.com/storage/v1/b/crop-mask-earthengine/o?projection=noAcl&prefix=Ethiopia_Bure_Jimma_2020%2FMuranga_County_CropMask: murgohs@gmail.com does not have storage.objects.list access to the Google Cloud Storage bucket."
          ]
        }
      ],
      "source": [
        "# Inference can take time so you may need to rerun this cell multiple times\n",
        "ee_task_amount, tifs_amount, predictions_amount = get_status(model_name_version)\n",
        "if ee_task_amount == 0:\n",
        "    if tifs_amount == 0:\n",
        "      print(\"Starting earth engine exports...\")\n",
        "      EarthEngineExporter(check_ee=False, check_gcp=False, dest_bucket=tifs_bucket_name).export_for_bbox(    \n",
        "        bbox=bbox,\n",
        "        bbox_name=model_name_version,\n",
        "        start_date=start_date,\n",
        "        end_date=end_date,\n",
        "        metres_per_polygon=50000,\n",
        "        file_dimensions=256\n",
        "      )\n",
        "      print(\"Waiting for some data to become available, wait a couple seconds and rerun this cell.\")\n",
        "    elif tifs_amount > predictions_amount:\n",
        "        missing = find_missing_predictions(model_name_version)\n",
        "        make_new_predictions(missing)\n",
        "        print(\"Wait 5 seconds then rerun this cell.\")\n",
        "    else:\n",
        "        print(\"Inference complete! Time to merge predictions into a map.\")\n",
        "\n",
        "if ee_task_amount > 0:\n",
        "    print(f\"Please wait for all {ee_task_amount} Earth Engine tasks to complete and rerun this cell.\"\n",
        "    \"\\nView progress here: https://code.earthengine.google.com/tasks.\")\n",
        "    "
      ]
    },
    {
      "cell_type": "markdown",
      "metadata": {
        "id": "RRQJZrmmh5Zp"
      },
      "source": [
        "# 4. Merge predictions into a map\n",
        "\n",
        "<img src=\"https://github.com/nasaharvest/crop-mask/blob/master/assets/merging-predictions.png?raw=true\" alt=\"merging-predictions\" width=\"500\"/>"
      ]
    },
    {
      "cell_type": "code",
      "execution_count": null,
      "metadata": {
        "id": "plixoT3lyUop",
        "outputId": "f4f509c2-72db-48f1-9a18-7590f1b4e0ab",
        "colab": {
          "base_uri": "https://localhost:8080/",
          "height": 235
        }
      },
      "outputs": [
        {
          "output_type": "error",
          "ename": "NameError",
          "evalue": "ignored",
          "traceback": [
            "\u001b[0;31m---------------------------------------------------------------------------\u001b[0m",
            "\u001b[0;31mNameError\u001b[0m                                 Traceback (most recent call last)",
            "\u001b[0;32m<ipython-input-33-d7419a1a97a2>\u001b[0m in \u001b[0;36m<module>\u001b[0;34m()\u001b[0m\n\u001b[0;32m----> 1\u001b[0;31m \u001b[0;32mif\u001b[0m \u001b[0mee_task_amount\u001b[0m \u001b[0;34m>\u001b[0m \u001b[0;36m0\u001b[0m\u001b[0;34m:\u001b[0m\u001b[0;34m\u001b[0m\u001b[0;34m\u001b[0m\u001b[0m\n\u001b[0m\u001b[1;32m      2\u001b[0m     \u001b[0mprint\u001b[0m\u001b[0;34m(\u001b[0m\u001b[0;34mf\"Please wait for all {ee_task_amount} Earth Engine tasks to complete and rerun the above cell before moving on.\"\u001b[0m\u001b[0;34m)\u001b[0m\u001b[0;34m\u001b[0m\u001b[0;34m\u001b[0m\u001b[0m\n\u001b[1;32m      3\u001b[0m \u001b[0;32melse\u001b[0m\u001b[0;34m:\u001b[0m\u001b[0;34m\u001b[0m\u001b[0;34m\u001b[0m\u001b[0m\n\u001b[1;32m      4\u001b[0m   \u001b[0mprefix\u001b[0m \u001b[0;34m=\u001b[0m \u001b[0;34mf\"{model_name}_{version}\"\u001b[0m\u001b[0;34m\u001b[0m\u001b[0;34m\u001b[0m\u001b[0m\n\u001b[1;32m      5\u001b[0m   \u001b[0mPath\u001b[0m\u001b[0;34m(\u001b[0m\u001b[0;34mf\"{prefix}_preds\"\u001b[0m\u001b[0;34m)\u001b[0m\u001b[0;34m.\u001b[0m\u001b[0mmkdir\u001b[0m\u001b[0;34m(\u001b[0m\u001b[0mexist_ok\u001b[0m\u001b[0;34m=\u001b[0m\u001b[0;32mTrue\u001b[0m\u001b[0;34m)\u001b[0m\u001b[0;34m\u001b[0m\u001b[0;34m\u001b[0m\u001b[0m\n",
            "\u001b[0;31mNameError\u001b[0m: name 'ee_task_amount' is not defined"
          ]
        }
      ],
      "source": [
        "if ee_task_amount > 0:\n",
        "    print(f\"Please wait for all {ee_task_amount} Earth Engine tasks to complete and rerun the above cell before moving on.\")\n",
        "else:\n",
        "  prefix = f\"{model_name}_{version}\"\n",
        "  Path(f\"{prefix}_preds\").mkdir(exist_ok=True)\n",
        "  Path(f\"{prefix}_vrts\").mkdir(exist_ok=True)\n",
        "  Path(f\"{prefix}_tifs\").mkdir(exist_ok=True)"
      ]
    },
    {
      "cell_type": "code",
      "execution_count": null,
      "metadata": {
        "id": "pdkZpkRIkv_3",
        "outputId": "f6c37d9d-0d1d-4b5b-ee63-b736762342a7",
        "colab": {
          "base_uri": "https://localhost:8080/"
        }
      },
      "outputs": [
        {
          "output_type": "stream",
          "name": "stdout",
          "text": [
            "Download predictions as nc files (may take several minutes)\n",
            "BucketNotFoundException: 404 gs://{preds_bucket_name} bucket does not exist.\n",
            "CommandException: 1 file/object could not be transferred.\n"
          ]
        }
      ],
      "source": [
        "print(\"Download predictions as nc files (may take several minutes)\")\n",
        "!gsutil -m cp -n -r gs://{preds_bucket_name}/{model_name_version}* {prefix}_preds"
      ]
    },
    {
      "cell_type": "code",
      "execution_count": null,
      "metadata": {
        "id": "cS-z3N9Wo83U",
        "outputId": "1da8ec75-89fd-489a-e534-d2186ad7fb8c",
        "colab": {
          "base_uri": "https://localhost:8080/",
          "height": 165
        }
      },
      "outputs": [
        {
          "output_type": "error",
          "ename": "NameError",
          "evalue": "ignored",
          "traceback": [
            "\u001b[0;31m---------------------------------------------------------------------------\u001b[0m",
            "\u001b[0;31mNameError\u001b[0m                                 Traceback (most recent call last)",
            "\u001b[0;32m<ipython-input-20-d2b83a9acc53>\u001b[0m in \u001b[0;36m<module>\u001b[0;34m()\u001b[0m\n\u001b[0;32m----> 1\u001b[0;31m \u001b[0mbuild_vrt\u001b[0m\u001b[0;34m(\u001b[0m\u001b[0mprefix\u001b[0m\u001b[0;34m)\u001b[0m\u001b[0;34m\u001b[0m\u001b[0;34m\u001b[0m\u001b[0m\n\u001b[0m",
            "\u001b[0;31mNameError\u001b[0m: name 'prefix' is not defined"
          ]
        }
      ],
      "source": [
        "build_vrt(prefix)"
      ]
    },
    {
      "cell_type": "code",
      "execution_count": null,
      "metadata": {
        "id": "alItdeCvrn4Y",
        "outputId": "44e15e5d-41a4-4588-cce3-227718051806",
        "colab": {
          "base_uri": "https://localhost:8080/"
        }
      },
      "outputs": [
        {
          "output_type": "stream",
          "name": "stdout",
          "text": [
            "ERROR 4: {prefix}_final.vrt: No such file or directory\n"
          ]
        }
      ],
      "source": [
        "# Translate vrt for all predictions into a tif file\n",
        "!gdal_translate -a_srs EPSG:4326 -of GTiff {prefix}_final.vrt {prefix}_final.tif"
      ]
    },
    {
      "cell_type": "markdown",
      "metadata": {
        "id": "WiM4mJ7ZxKjX"
      },
      "source": [
        "# 5. Upload map to Earth Engine"
      ]
    },
    {
      "cell_type": "code",
      "execution_count": null,
      "metadata": {
        "id": "9CR-bWV1x1KB"
      },
      "outputs": [],
      "source": [
        "dest = f\"gs://{preds_merged_bucket_name}/{model_name_version}_{start_date}_{end_date}\""
      ]
    },
    {
      "cell_type": "code",
      "execution_count": null,
      "metadata": {
        "id": "U_ailjn5roRF",
        "outputId": "458a82ce-3da4-4a49-bf9a-28c78164bfa1",
        "colab": {
          "base_uri": "https://localhost:8080/"
        }
      },
      "outputs": [
        {
          "output_type": "stream",
          "name": "stdout",
          "text": [
            "CommandException: No URLs matched: {prefix}_final.tif\n"
          ]
        }
      ],
      "source": [
        "!gsutil cp {prefix}_final.tif {dest}"
      ]
    },
    {
      "cell_type": "code",
      "execution_count": null,
      "metadata": {
        "id": "GQrwSX8KyD9t",
        "outputId": "0b302b8f-7096-4ed5-b092-a23cf23016a6",
        "colab": {
          "base_uri": "https://localhost:8080/"
        }
      },
      "outputs": [
        {
          "output_type": "stream",
          "name": "stdout",
          "text": [
            "usage: earthengine upload image [-h] [--wait [WAIT]] [--force]\n",
            "                                [--asset_id ASSET_ID] [--last_band_alpha]\n",
            "                                [--nodata_value NODATA_VALUE]\n",
            "                                [--pyramiding_policy PYRAMIDING_POLICY]\n",
            "                                [--bands BANDS] [--crs CRS]\n",
            "                                [--manifest MANIFEST] [--property PROPERTY]\n",
            "                                [--time_start TIME_START]\n",
            "                                [--time_end TIME_END]\n",
            "                                [src_files [src_files ...]]\n",
            "earthengine upload image: error: argument --time_start/-ts: Invalid value for property of type \"date\": \"{start_date}\".\n"
          ]
        }
      ],
      "source": [
        "!earthengine upload image --asset_id users/{earthengine_user}/{prefix} -ts {start_date} -te {end_date} {dest}"
      ]
    },
    {
      "cell_type": "markdown",
      "metadata": {
        "id": "e3xEOxN80nVX"
      },
      "source": [
        "See map upload here: https://code.earthengine.google.com/tasks"
      ]
    },
    {
      "cell_type": "markdown",
      "metadata": {
        "id": "_D8vNDljBPuK"
      },
      "source": [
        "# 6. Visualize on GEE\n",
        "\n",
        "Click **View asset** on the image just created here: https://code.earthengine.google.com/tasks\n",
        "\n",
        "\n",
        "Then click **Import** and add the following to the script to view the map\n",
        "```\n",
        "var palettes = require('users/gena/packages:palettes');\n",
        "var palette = palettes.cmocean.Speed[7]\n",
        "\n",
        "Map.setCenter(lon, lat, 11); \n",
        "Map.addLayer(image.gt(0.5), {min: 0, max: 1.0, palette: palette.slice(0,-2)}, 'mask');\n",
        "Map.addLayer(image, {min: 0, max: 1.0, palette: palette}, 'My crop map');\n",
        "```"
      ]
    },
    {
      "cell_type": "code",
      "execution_count": null,
      "metadata": {
        "id": "C1E4o77RBKZ7"
      },
      "outputs": [],
      "source": [
        ""
      ]
    }
  ],
  "metadata": {
    "colab": {
      "name": "Copy of crop-mask-inference.ipynb",
      "provenance": [],
      "include_colab_link": true
    },
    "kernelspec": {
      "display_name": "Python 3",
      "name": "python3"
    },
    "language_info": {
      "name": "python"
    },
    "widgets": {
      "application/vnd.jupyter.widget-state+json": {
        "3d096aee77a442649a07de5020bc97a2": {
          "model_module": "@jupyter-widgets/controls",
          "model_name": "BoxModel",
          "model_module_version": "1.5.0",
          "state": {
            "_dom_classes": [],
            "_model_module": "@jupyter-widgets/controls",
            "_model_module_version": "1.5.0",
            "_model_name": "BoxModel",
            "_view_count": null,
            "_view_module": "@jupyter-widgets/controls",
            "_view_module_version": "1.5.0",
            "_view_name": "BoxView",
            "box_style": "",
            "children": [
              "IPY_MODEL_ee84a9f061be49f2bfb1a436141b851b",
              "IPY_MODEL_438eef1eb2ba4a499d91fa5fc81d92dd"
            ],
            "layout": "IPY_MODEL_2ba5d5cdf4084e59a128522afa4de4c5"
          }
        },
        "ee84a9f061be49f2bfb1a436141b851b": {
          "model_module": "@jupyter-widgets/controls",
          "model_name": "TextModel",
          "model_module_version": "1.5.0",
          "state": {
            "_dom_classes": [],
            "_model_module": "@jupyter-widgets/controls",
            "_model_module_version": "1.5.0",
            "_model_name": "TextModel",
            "_view_count": null,
            "_view_module": "@jupyter-widgets/controls",
            "_view_module_version": "1.5.0",
            "_view_name": "TextView",
            "continuous_update": true,
            "description": "Earth Engine username: ",
            "description_tooltip": null,
            "disabled": false,
            "layout": "IPY_MODEL_72fdc2e3643a43629dd67b9c06de450b",
            "placeholder": "​",
            "style": "IPY_MODEL_5e191fce9a324a308b44e8cd68cc1816",
            "value": "murgohs@gmail.com"
          }
        },
        "438eef1eb2ba4a499d91fa5fc81d92dd": {
          "model_module": "@jupyter-widgets/controls",
          "model_name": "RadioButtonsModel",
          "model_module_version": "1.5.0",
          "state": {
            "_dom_classes": [],
            "_model_module": "@jupyter-widgets/controls",
            "_model_module_version": "1.5.0",
            "_model_name": "RadioButtonsModel",
            "_options_labels": [
              "crop-mask",
              "crop-type"
            ],
            "_view_count": null,
            "_view_module": "@jupyter-widgets/controls",
            "_view_module_version": "1.5.0",
            "_view_name": "RadioButtonsView",
            "description": "Model type:",
            "description_tooltip": null,
            "disabled": false,
            "index": 0,
            "layout": "IPY_MODEL_57e3b4599a5b42cb93cf17aabddec891",
            "style": "IPY_MODEL_358f454fa79142bc8e58af67ee53db50"
          }
        },
        "2ba5d5cdf4084e59a128522afa4de4c5": {
          "model_module": "@jupyter-widgets/base",
          "model_name": "LayoutModel",
          "model_module_version": "1.2.0",
          "state": {
            "_model_module": "@jupyter-widgets/base",
            "_model_module_version": "1.2.0",
            "_model_name": "LayoutModel",
            "_view_count": null,
            "_view_module": "@jupyter-widgets/base",
            "_view_module_version": "1.2.0",
            "_view_name": "LayoutView",
            "align_content": null,
            "align_items": null,
            "align_self": null,
            "border": null,
            "bottom": null,
            "display": null,
            "flex": null,
            "flex_flow": "column",
            "grid_area": null,
            "grid_auto_columns": null,
            "grid_auto_flow": null,
            "grid_auto_rows": null,
            "grid_column": null,
            "grid_gap": null,
            "grid_row": null,
            "grid_template_areas": null,
            "grid_template_columns": null,
            "grid_template_rows": null,
            "height": null,
            "justify_content": null,
            "justify_items": null,
            "left": null,
            "margin": null,
            "max_height": null,
            "max_width": null,
            "min_height": null,
            "min_width": null,
            "object_fit": null,
            "object_position": null,
            "order": null,
            "overflow": null,
            "overflow_x": null,
            "overflow_y": null,
            "padding": null,
            "right": null,
            "top": null,
            "visibility": null,
            "width": null
          }
        },
        "72fdc2e3643a43629dd67b9c06de450b": {
          "model_module": "@jupyter-widgets/base",
          "model_name": "LayoutModel",
          "model_module_version": "1.2.0",
          "state": {
            "_model_module": "@jupyter-widgets/base",
            "_model_module_version": "1.2.0",
            "_model_name": "LayoutModel",
            "_view_count": null,
            "_view_module": "@jupyter-widgets/base",
            "_view_module_version": "1.2.0",
            "_view_name": "LayoutView",
            "align_content": null,
            "align_items": null,
            "align_self": null,
            "border": null,
            "bottom": null,
            "display": null,
            "flex": null,
            "flex_flow": null,
            "grid_area": null,
            "grid_auto_columns": null,
            "grid_auto_flow": null,
            "grid_auto_rows": null,
            "grid_column": null,
            "grid_gap": null,
            "grid_row": null,
            "grid_template_areas": null,
            "grid_template_columns": null,
            "grid_template_rows": null,
            "height": null,
            "justify_content": null,
            "justify_items": null,
            "left": null,
            "margin": null,
            "max_height": null,
            "max_width": null,
            "min_height": null,
            "min_width": null,
            "object_fit": null,
            "object_position": null,
            "order": null,
            "overflow": null,
            "overflow_x": null,
            "overflow_y": null,
            "padding": null,
            "right": null,
            "top": null,
            "visibility": null,
            "width": null
          }
        },
        "5e191fce9a324a308b44e8cd68cc1816": {
          "model_module": "@jupyter-widgets/controls",
          "model_name": "DescriptionStyleModel",
          "model_module_version": "1.5.0",
          "state": {
            "_model_module": "@jupyter-widgets/controls",
            "_model_module_version": "1.5.0",
            "_model_name": "DescriptionStyleModel",
            "_view_count": null,
            "_view_module": "@jupyter-widgets/base",
            "_view_module_version": "1.2.0",
            "_view_name": "StyleView",
            "description_width": "initial"
          }
        },
        "57e3b4599a5b42cb93cf17aabddec891": {
          "model_module": "@jupyter-widgets/base",
          "model_name": "LayoutModel",
          "model_module_version": "1.2.0",
          "state": {
            "_model_module": "@jupyter-widgets/base",
            "_model_module_version": "1.2.0",
            "_model_name": "LayoutModel",
            "_view_count": null,
            "_view_module": "@jupyter-widgets/base",
            "_view_module_version": "1.2.0",
            "_view_name": "LayoutView",
            "align_content": null,
            "align_items": null,
            "align_self": null,
            "border": null,
            "bottom": null,
            "display": null,
            "flex": null,
            "flex_flow": null,
            "grid_area": null,
            "grid_auto_columns": null,
            "grid_auto_flow": null,
            "grid_auto_rows": null,
            "grid_column": null,
            "grid_gap": null,
            "grid_row": null,
            "grid_template_areas": null,
            "grid_template_columns": null,
            "grid_template_rows": null,
            "height": null,
            "justify_content": null,
            "justify_items": null,
            "left": null,
            "margin": null,
            "max_height": null,
            "max_width": null,
            "min_height": null,
            "min_width": null,
            "object_fit": null,
            "object_position": null,
            "order": null,
            "overflow": null,
            "overflow_x": null,
            "overflow_y": null,
            "padding": null,
            "right": null,
            "top": null,
            "visibility": null,
            "width": null
          }
        },
        "358f454fa79142bc8e58af67ee53db50": {
          "model_module": "@jupyter-widgets/controls",
          "model_name": "DescriptionStyleModel",
          "model_module_version": "1.5.0",
          "state": {
            "_model_module": "@jupyter-widgets/controls",
            "_model_module_version": "1.5.0",
            "_model_name": "DescriptionStyleModel",
            "_view_count": null,
            "_view_module": "@jupyter-widgets/base",
            "_view_module_version": "1.2.0",
            "_view_name": "StyleView",
            "description_width": "initial"
          }
        },
        "a91e2c5217f3475298e6c09e88cf00c5": {
          "model_module": "@jupyter-widgets/controls",
          "model_name": "BoxModel",
          "model_module_version": "1.5.0",
          "state": {
            "_dom_classes": [],
            "_model_module": "@jupyter-widgets/controls",
            "_model_module_version": "1.5.0",
            "_model_name": "BoxModel",
            "_view_count": null,
            "_view_module": "@jupyter-widgets/controls",
            "_view_module_version": "1.5.0",
            "_view_name": "BoxView",
            "box_style": "",
            "children": [
              "IPY_MODEL_b5c362ed5c624b4e9385661102313cf5",
              "IPY_MODEL_ce45c129dceb41cb9e165d7bc81c3cdb",
              "IPY_MODEL_fa7a11fedabe45119cc572eda0ed063b",
              "IPY_MODEL_3ba2e9f1f67c4fb68e70ee8f9211ea74"
            ],
            "layout": "IPY_MODEL_2ba5d5cdf4084e59a128522afa4de4c5"
          }
        },
        "b5c362ed5c624b4e9385661102313cf5": {
          "model_module": "@jupyter-widgets/controls",
          "model_name": "DropdownModel",
          "model_module_version": "1.5.0",
          "state": {
            "_dom_classes": [],
            "_model_module": "@jupyter-widgets/controls",
            "_model_module_version": "1.5.0",
            "_model_name": "DropdownModel",
            "_options_labels": [
              "East_Africa",
              "Ethiopia_Bure_Jimma_2019",
              "Ethiopia_Bure_Jimma_2020",
              "Ethiopia_Tigray_2020",
              "Ethiopia_Tigray_2021",
              "Mali_lower_2019",
              "Mali_upper_2019",
              "Rwanda_2019",
              "Uganda_2019"
            ],
            "_view_count": null,
            "_view_module": "@jupyter-widgets/controls",
            "_view_module_version": "1.5.0",
            "_view_name": "DropdownView",
            "description": "Model to use",
            "description_tooltip": null,
            "disabled": false,
            "index": 2,
            "layout": "IPY_MODEL_372b333713284100ba1bd685c53ad24a",
            "style": "IPY_MODEL_3bd6b44b884b4cf793e84025b8f74979"
          }
        },
        "ce45c129dceb41cb9e165d7bc81c3cdb": {
          "model_module": "@jupyter-widgets/controls",
          "model_name": "DatePickerModel",
          "model_module_version": "1.5.0",
          "state": {
            "_dom_classes": [],
            "_model_module": "@jupyter-widgets/controls",
            "_model_module_version": "1.5.0",
            "_model_name": "DatePickerModel",
            "_view_count": null,
            "_view_module": "@jupyter-widgets/controls",
            "_view_module_version": "1.5.0",
            "_view_name": "DatePickerView",
            "description": "Start date",
            "description_tooltip": null,
            "disabled": false,
            "layout": "IPY_MODEL_59af3782db7b471c9fa2148f1930444c",
            "style": "IPY_MODEL_ecc44914056e409a95432e2ccf6e4578",
            "value": {
              "year": 2020,
              "month": 1,
              "date": 1
            }
          }
        },
        "fa7a11fedabe45119cc572eda0ed063b": {
          "model_module": "@jupyter-widgets/controls",
          "model_name": "DatePickerModel",
          "model_module_version": "1.5.0",
          "state": {
            "_dom_classes": [],
            "_model_module": "@jupyter-widgets/controls",
            "_model_module_version": "1.5.0",
            "_model_name": "DatePickerModel",
            "_view_count": null,
            "_view_module": "@jupyter-widgets/controls",
            "_view_module_version": "1.5.0",
            "_view_name": "DatePickerView",
            "description": "End date",
            "description_tooltip": null,
            "disabled": false,
            "layout": "IPY_MODEL_d16df233379e470f8bf570596fabac13",
            "style": "IPY_MODEL_21ca3a9c4e2845da8eb7bb182a046f91",
            "value": {
              "year": 2021,
              "month": 1,
              "date": 1
            }
          }
        },
        "3ba2e9f1f67c4fb68e70ee8f9211ea74": {
          "model_module": "@jupyter-widgets/controls",
          "model_name": "TextModel",
          "model_module_version": "1.5.0",
          "state": {
            "_dom_classes": [],
            "_model_module": "@jupyter-widgets/controls",
            "_model_module_version": "1.5.0",
            "_model_name": "TextModel",
            "_view_count": null,
            "_view_module": "@jupyter-widgets/controls",
            "_view_module_version": "1.5.0",
            "_view_name": "TextView",
            "continuous_update": true,
            "description": "Map identifier",
            "description_tooltip": null,
            "disabled": false,
            "layout": "IPY_MODEL_8076f01cd0ff4f45b91e4947bc099a01",
            "placeholder": "​",
            "style": "IPY_MODEL_7347c6a1086145dd9d09d8f492e036ce",
            "value": "Muranga_County_CropMask"
          }
        },
        "372b333713284100ba1bd685c53ad24a": {
          "model_module": "@jupyter-widgets/base",
          "model_name": "LayoutModel",
          "model_module_version": "1.2.0",
          "state": {
            "_model_module": "@jupyter-widgets/base",
            "_model_module_version": "1.2.0",
            "_model_name": "LayoutModel",
            "_view_count": null,
            "_view_module": "@jupyter-widgets/base",
            "_view_module_version": "1.2.0",
            "_view_name": "LayoutView",
            "align_content": null,
            "align_items": null,
            "align_self": null,
            "border": null,
            "bottom": null,
            "display": null,
            "flex": null,
            "flex_flow": null,
            "grid_area": null,
            "grid_auto_columns": null,
            "grid_auto_flow": null,
            "grid_auto_rows": null,
            "grid_column": null,
            "grid_gap": null,
            "grid_row": null,
            "grid_template_areas": null,
            "grid_template_columns": null,
            "grid_template_rows": null,
            "height": null,
            "justify_content": null,
            "justify_items": null,
            "left": null,
            "margin": null,
            "max_height": null,
            "max_width": null,
            "min_height": null,
            "min_width": null,
            "object_fit": null,
            "object_position": null,
            "order": null,
            "overflow": null,
            "overflow_x": null,
            "overflow_y": null,
            "padding": null,
            "right": null,
            "top": null,
            "visibility": null,
            "width": null
          }
        },
        "3bd6b44b884b4cf793e84025b8f74979": {
          "model_module": "@jupyter-widgets/controls",
          "model_name": "DescriptionStyleModel",
          "model_module_version": "1.5.0",
          "state": {
            "_model_module": "@jupyter-widgets/controls",
            "_model_module_version": "1.5.0",
            "_model_name": "DescriptionStyleModel",
            "_view_count": null,
            "_view_module": "@jupyter-widgets/base",
            "_view_module_version": "1.2.0",
            "_view_name": "StyleView",
            "description_width": ""
          }
        },
        "59af3782db7b471c9fa2148f1930444c": {
          "model_module": "@jupyter-widgets/base",
          "model_name": "LayoutModel",
          "model_module_version": "1.2.0",
          "state": {
            "_model_module": "@jupyter-widgets/base",
            "_model_module_version": "1.2.0",
            "_model_name": "LayoutModel",
            "_view_count": null,
            "_view_module": "@jupyter-widgets/base",
            "_view_module_version": "1.2.0",
            "_view_name": "LayoutView",
            "align_content": null,
            "align_items": null,
            "align_self": null,
            "border": null,
            "bottom": null,
            "display": null,
            "flex": null,
            "flex_flow": null,
            "grid_area": null,
            "grid_auto_columns": null,
            "grid_auto_flow": null,
            "grid_auto_rows": null,
            "grid_column": null,
            "grid_gap": null,
            "grid_row": null,
            "grid_template_areas": null,
            "grid_template_columns": null,
            "grid_template_rows": null,
            "height": null,
            "justify_content": null,
            "justify_items": null,
            "left": null,
            "margin": null,
            "max_height": null,
            "max_width": null,
            "min_height": null,
            "min_width": null,
            "object_fit": null,
            "object_position": null,
            "order": null,
            "overflow": null,
            "overflow_x": null,
            "overflow_y": null,
            "padding": null,
            "right": null,
            "top": null,
            "visibility": null,
            "width": null
          }
        },
        "ecc44914056e409a95432e2ccf6e4578": {
          "model_module": "@jupyter-widgets/controls",
          "model_name": "DescriptionStyleModel",
          "model_module_version": "1.5.0",
          "state": {
            "_model_module": "@jupyter-widgets/controls",
            "_model_module_version": "1.5.0",
            "_model_name": "DescriptionStyleModel",
            "_view_count": null,
            "_view_module": "@jupyter-widgets/base",
            "_view_module_version": "1.2.0",
            "_view_name": "StyleView",
            "description_width": ""
          }
        },
        "d16df233379e470f8bf570596fabac13": {
          "model_module": "@jupyter-widgets/base",
          "model_name": "LayoutModel",
          "model_module_version": "1.2.0",
          "state": {
            "_model_module": "@jupyter-widgets/base",
            "_model_module_version": "1.2.0",
            "_model_name": "LayoutModel",
            "_view_count": null,
            "_view_module": "@jupyter-widgets/base",
            "_view_module_version": "1.2.0",
            "_view_name": "LayoutView",
            "align_content": null,
            "align_items": null,
            "align_self": null,
            "border": null,
            "bottom": null,
            "display": null,
            "flex": null,
            "flex_flow": null,
            "grid_area": null,
            "grid_auto_columns": null,
            "grid_auto_flow": null,
            "grid_auto_rows": null,
            "grid_column": null,
            "grid_gap": null,
            "grid_row": null,
            "grid_template_areas": null,
            "grid_template_columns": null,
            "grid_template_rows": null,
            "height": null,
            "justify_content": null,
            "justify_items": null,
            "left": null,
            "margin": null,
            "max_height": null,
            "max_width": null,
            "min_height": null,
            "min_width": null,
            "object_fit": null,
            "object_position": null,
            "order": null,
            "overflow": null,
            "overflow_x": null,
            "overflow_y": null,
            "padding": null,
            "right": null,
            "top": null,
            "visibility": null,
            "width": null
          }
        },
        "21ca3a9c4e2845da8eb7bb182a046f91": {
          "model_module": "@jupyter-widgets/controls",
          "model_name": "DescriptionStyleModel",
          "model_module_version": "1.5.0",
          "state": {
            "_model_module": "@jupyter-widgets/controls",
            "_model_module_version": "1.5.0",
            "_model_name": "DescriptionStyleModel",
            "_view_count": null,
            "_view_module": "@jupyter-widgets/base",
            "_view_module_version": "1.2.0",
            "_view_name": "StyleView",
            "description_width": ""
          }
        },
        "8076f01cd0ff4f45b91e4947bc099a01": {
          "model_module": "@jupyter-widgets/base",
          "model_name": "LayoutModel",
          "model_module_version": "1.2.0",
          "state": {
            "_model_module": "@jupyter-widgets/base",
            "_model_module_version": "1.2.0",
            "_model_name": "LayoutModel",
            "_view_count": null,
            "_view_module": "@jupyter-widgets/base",
            "_view_module_version": "1.2.0",
            "_view_name": "LayoutView",
            "align_content": null,
            "align_items": null,
            "align_self": null,
            "border": null,
            "bottom": null,
            "display": null,
            "flex": null,
            "flex_flow": null,
            "grid_area": null,
            "grid_auto_columns": null,
            "grid_auto_flow": null,
            "grid_auto_rows": null,
            "grid_column": null,
            "grid_gap": null,
            "grid_row": null,
            "grid_template_areas": null,
            "grid_template_columns": null,
            "grid_template_rows": null,
            "height": null,
            "justify_content": null,
            "justify_items": null,
            "left": null,
            "margin": null,
            "max_height": null,
            "max_width": null,
            "min_height": null,
            "min_width": null,
            "object_fit": null,
            "object_position": null,
            "order": null,
            "overflow": null,
            "overflow_x": null,
            "overflow_y": null,
            "padding": null,
            "right": null,
            "top": null,
            "visibility": null,
            "width": null
          }
        },
        "7347c6a1086145dd9d09d8f492e036ce": {
          "model_module": "@jupyter-widgets/controls",
          "model_name": "DescriptionStyleModel",
          "model_module_version": "1.5.0",
          "state": {
            "_model_module": "@jupyter-widgets/controls",
            "_model_module_version": "1.5.0",
            "_model_name": "DescriptionStyleModel",
            "_view_count": null,
            "_view_module": "@jupyter-widgets/base",
            "_view_module_version": "1.2.0",
            "_view_name": "StyleView",
            "description_width": ""
          }
        },
        "6e90263747374a5d894d82af92b747b0": {
          "model_module": "@jupyter-widgets/controls",
          "model_name": "HBoxModel",
          "model_module_version": "1.5.0",
          "state": {
            "_dom_classes": [],
            "_model_module": "@jupyter-widgets/controls",
            "_model_module_version": "1.5.0",
            "_model_name": "HBoxModel",
            "_view_count": null,
            "_view_module": "@jupyter-widgets/controls",
            "_view_module_version": "1.5.0",
            "_view_name": "HBoxView",
            "box_style": "",
            "children": [
              "IPY_MODEL_bac5842c84e0465a986f03edd213d22c",
              "IPY_MODEL_a1a7f0697aac45449485c979738eec3a",
              "IPY_MODEL_55d9b996fcb349a0a819d6192a36d067"
            ],
            "layout": "IPY_MODEL_29320a9940354e7c98dd996470ed8ea5"
          }
        },
        "bac5842c84e0465a986f03edd213d22c": {
          "model_module": "@jupyter-widgets/controls",
          "model_name": "HTMLModel",
          "model_module_version": "1.5.0",
          "state": {
            "_dom_classes": [],
            "_model_module": "@jupyter-widgets/controls",
            "_model_module_version": "1.5.0",
            "_model_name": "HTMLModel",
            "_view_count": null,
            "_view_module": "@jupyter-widgets/controls",
            "_view_module_version": "1.5.0",
            "_view_name": "HTMLView",
            "description": "",
            "description_tooltip": null,
            "layout": "IPY_MODEL_176d9e5f313042d89c59e4bbae059432",
            "placeholder": "​",
            "style": "IPY_MODEL_3236309001a146e2a4f2d03d55bf3acc",
            "value": "100%"
          }
        },
        "a1a7f0697aac45449485c979738eec3a": {
          "model_module": "@jupyter-widgets/controls",
          "model_name": "FloatProgressModel",
          "model_module_version": "1.5.0",
          "state": {
            "_dom_classes": [],
            "_model_module": "@jupyter-widgets/controls",
            "_model_module_version": "1.5.0",
            "_model_name": "FloatProgressModel",
            "_view_count": null,
            "_view_module": "@jupyter-widgets/controls",
            "_view_module_version": "1.5.0",
            "_view_name": "ProgressView",
            "bar_style": "success",
            "description": "",
            "description_tooltip": null,
            "layout": "IPY_MODEL_57527150989d4a37ae3daacde2c70eae",
            "max": 1,
            "min": 0,
            "orientation": "horizontal",
            "style": "IPY_MODEL_85ecbead251648c5aac8d084a16f6088",
            "value": 1
          }
        },
        "55d9b996fcb349a0a819d6192a36d067": {
          "model_module": "@jupyter-widgets/controls",
          "model_name": "HTMLModel",
          "model_module_version": "1.5.0",
          "state": {
            "_dom_classes": [],
            "_model_module": "@jupyter-widgets/controls",
            "_model_module_version": "1.5.0",
            "_model_name": "HTMLModel",
            "_view_count": null,
            "_view_module": "@jupyter-widgets/controls",
            "_view_module_version": "1.5.0",
            "_view_name": "HTMLView",
            "description": "",
            "description_tooltip": null,
            "layout": "IPY_MODEL_82d17fa6217e44a89d585744ddb4970d",
            "placeholder": "​",
            "style": "IPY_MODEL_5e706639dd1e44669828df649e06a119",
            "value": " 1/1 [00:00&lt;00:00, 26.70it/s]"
          }
        },
        "29320a9940354e7c98dd996470ed8ea5": {
          "model_module": "@jupyter-widgets/base",
          "model_name": "LayoutModel",
          "model_module_version": "1.2.0",
          "state": {
            "_model_module": "@jupyter-widgets/base",
            "_model_module_version": "1.2.0",
            "_model_name": "LayoutModel",
            "_view_count": null,
            "_view_module": "@jupyter-widgets/base",
            "_view_module_version": "1.2.0",
            "_view_name": "LayoutView",
            "align_content": null,
            "align_items": null,
            "align_self": null,
            "border": null,
            "bottom": null,
            "display": null,
            "flex": null,
            "flex_flow": null,
            "grid_area": null,
            "grid_auto_columns": null,
            "grid_auto_flow": null,
            "grid_auto_rows": null,
            "grid_column": null,
            "grid_gap": null,
            "grid_row": null,
            "grid_template_areas": null,
            "grid_template_columns": null,
            "grid_template_rows": null,
            "height": null,
            "justify_content": null,
            "justify_items": null,
            "left": null,
            "margin": null,
            "max_height": null,
            "max_width": null,
            "min_height": null,
            "min_width": null,
            "object_fit": null,
            "object_position": null,
            "order": null,
            "overflow": null,
            "overflow_x": null,
            "overflow_y": null,
            "padding": null,
            "right": null,
            "top": null,
            "visibility": null,
            "width": null
          }
        },
        "176d9e5f313042d89c59e4bbae059432": {
          "model_module": "@jupyter-widgets/base",
          "model_name": "LayoutModel",
          "model_module_version": "1.2.0",
          "state": {
            "_model_module": "@jupyter-widgets/base",
            "_model_module_version": "1.2.0",
            "_model_name": "LayoutModel",
            "_view_count": null,
            "_view_module": "@jupyter-widgets/base",
            "_view_module_version": "1.2.0",
            "_view_name": "LayoutView",
            "align_content": null,
            "align_items": null,
            "align_self": null,
            "border": null,
            "bottom": null,
            "display": null,
            "flex": null,
            "flex_flow": null,
            "grid_area": null,
            "grid_auto_columns": null,
            "grid_auto_flow": null,
            "grid_auto_rows": null,
            "grid_column": null,
            "grid_gap": null,
            "grid_row": null,
            "grid_template_areas": null,
            "grid_template_columns": null,
            "grid_template_rows": null,
            "height": null,
            "justify_content": null,
            "justify_items": null,
            "left": null,
            "margin": null,
            "max_height": null,
            "max_width": null,
            "min_height": null,
            "min_width": null,
            "object_fit": null,
            "object_position": null,
            "order": null,
            "overflow": null,
            "overflow_x": null,
            "overflow_y": null,
            "padding": null,
            "right": null,
            "top": null,
            "visibility": null,
            "width": null
          }
        },
        "3236309001a146e2a4f2d03d55bf3acc": {
          "model_module": "@jupyter-widgets/controls",
          "model_name": "DescriptionStyleModel",
          "model_module_version": "1.5.0",
          "state": {
            "_model_module": "@jupyter-widgets/controls",
            "_model_module_version": "1.5.0",
            "_model_name": "DescriptionStyleModel",
            "_view_count": null,
            "_view_module": "@jupyter-widgets/base",
            "_view_module_version": "1.2.0",
            "_view_name": "StyleView",
            "description_width": ""
          }
        },
        "57527150989d4a37ae3daacde2c70eae": {
          "model_module": "@jupyter-widgets/base",
          "model_name": "LayoutModel",
          "model_module_version": "1.2.0",
          "state": {
            "_model_module": "@jupyter-widgets/base",
            "_model_module_version": "1.2.0",
            "_model_name": "LayoutModel",
            "_view_count": null,
            "_view_module": "@jupyter-widgets/base",
            "_view_module_version": "1.2.0",
            "_view_name": "LayoutView",
            "align_content": null,
            "align_items": null,
            "align_self": null,
            "border": null,
            "bottom": null,
            "display": null,
            "flex": null,
            "flex_flow": null,
            "grid_area": null,
            "grid_auto_columns": null,
            "grid_auto_flow": null,
            "grid_auto_rows": null,
            "grid_column": null,
            "grid_gap": null,
            "grid_row": null,
            "grid_template_areas": null,
            "grid_template_columns": null,
            "grid_template_rows": null,
            "height": null,
            "justify_content": null,
            "justify_items": null,
            "left": null,
            "margin": null,
            "max_height": null,
            "max_width": null,
            "min_height": null,
            "min_width": null,
            "object_fit": null,
            "object_position": null,
            "order": null,
            "overflow": null,
            "overflow_x": null,
            "overflow_y": null,
            "padding": null,
            "right": null,
            "top": null,
            "visibility": null,
            "width": null
          }
        },
        "85ecbead251648c5aac8d084a16f6088": {
          "model_module": "@jupyter-widgets/controls",
          "model_name": "ProgressStyleModel",
          "model_module_version": "1.5.0",
          "state": {
            "_model_module": "@jupyter-widgets/controls",
            "_model_module_version": "1.5.0",
            "_model_name": "ProgressStyleModel",
            "_view_count": null,
            "_view_module": "@jupyter-widgets/base",
            "_view_module_version": "1.2.0",
            "_view_name": "StyleView",
            "bar_color": null,
            "description_width": ""
          }
        },
        "82d17fa6217e44a89d585744ddb4970d": {
          "model_module": "@jupyter-widgets/base",
          "model_name": "LayoutModel",
          "model_module_version": "1.2.0",
          "state": {
            "_model_module": "@jupyter-widgets/base",
            "_model_module_version": "1.2.0",
            "_model_name": "LayoutModel",
            "_view_count": null,
            "_view_module": "@jupyter-widgets/base",
            "_view_module_version": "1.2.0",
            "_view_name": "LayoutView",
            "align_content": null,
            "align_items": null,
            "align_self": null,
            "border": null,
            "bottom": null,
            "display": null,
            "flex": null,
            "flex_flow": null,
            "grid_area": null,
            "grid_auto_columns": null,
            "grid_auto_flow": null,
            "grid_auto_rows": null,
            "grid_column": null,
            "grid_gap": null,
            "grid_row": null,
            "grid_template_areas": null,
            "grid_template_columns": null,
            "grid_template_rows": null,
            "height": null,
            "justify_content": null,
            "justify_items": null,
            "left": null,
            "margin": null,
            "max_height": null,
            "max_width": null,
            "min_height": null,
            "min_width": null,
            "object_fit": null,
            "object_position": null,
            "order": null,
            "overflow": null,
            "overflow_x": null,
            "overflow_y": null,
            "padding": null,
            "right": null,
            "top": null,
            "visibility": null,
            "width": null
          }
        },
        "5e706639dd1e44669828df649e06a119": {
          "model_module": "@jupyter-widgets/controls",
          "model_name": "DescriptionStyleModel",
          "model_module_version": "1.5.0",
          "state": {
            "_model_module": "@jupyter-widgets/controls",
            "_model_module_version": "1.5.0",
            "_model_name": "DescriptionStyleModel",
            "_view_count": null,
            "_view_module": "@jupyter-widgets/base",
            "_view_module_version": "1.2.0",
            "_view_name": "StyleView",
            "description_width": ""
          }
        }
      }
    }
  },
  "nbformat": 4,
  "nbformat_minor": 0
}